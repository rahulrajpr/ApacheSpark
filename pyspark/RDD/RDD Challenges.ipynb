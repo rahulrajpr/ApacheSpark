{
 "cells": [
  {
   "cell_type": "markdown",
   "id": "d2974ebb",
   "metadata": {},
   "source": [
    "# Challenge - 1. Convert the Faranheit to Degree Celcius"
   ]
  },
  {
   "cell_type": "markdown",
   "id": "7e367735",
   "metadata": {},
   "source": [
    "Formula for convertion --> **C = (°F − 32) × 5/9**"
   ]
  },
  {
   "cell_type": "code",
   "execution_count": 1,
   "id": "7903c742",
   "metadata": {},
   "outputs": [],
   "source": [
    "from pyspark.sql import SparkSession"
   ]
  },
  {
   "cell_type": "code",
   "execution_count": 3,
   "id": "30b44c04",
   "metadata": {},
   "outputs": [
    {
     "name": "stderr",
     "output_type": "stream",
     "text": [
      "23/07/01 20:43:44 WARN Utils: Your hostname, systemd resolves to a loopback address: 127.0.1.1; using 192.168.0.141 instead (on interface wlp3s0)\n",
      "23/07/01 20:43:44 WARN Utils: Set SPARK_LOCAL_IP if you need to bind to another address\n",
      "WARNING: An illegal reflective access operation has occurred\n",
      "WARNING: Illegal reflective access by org.apache.spark.unsafe.Platform (file:/home/systemd/anaconda3/lib/python3.9/site-packages/pyspark/jars/spark-unsafe_2.12-3.2.1.jar) to constructor java.nio.DirectByteBuffer(long,int)\n",
      "WARNING: Please consider reporting this to the maintainers of org.apache.spark.unsafe.Platform\n",
      "WARNING: Use --illegal-access=warn to enable warnings of further illegal reflective access operations\n",
      "WARNING: All illegal access operations will be denied in a future release\n",
      "Using Spark's default log4j profile: org/apache/spark/log4j-defaults.properties\n",
      "Setting default log level to \"WARN\".\n",
      "To adjust logging level use sc.setLogLevel(newLevel). For SparkR, use setLogLevel(newLevel).\n",
      "23/07/01 20:43:44 WARN NativeCodeLoader: Unable to load native-hadoop library for your platform... using builtin-java classes where applicable\n"
     ]
    }
   ],
   "source": [
    "spark = SparkSession.builder.appName('RDDChallenge').getOrCreate()"
   ]
  },
  {
   "cell_type": "code",
   "execution_count": 4,
   "id": "a6bff089",
   "metadata": {},
   "outputs": [],
   "source": [
    "temp_list = [99,100,65,12,-4,-30,60,75]"
   ]
  },
  {
   "cell_type": "code",
   "execution_count": 10,
   "id": "cb0ca732",
   "metadata": {},
   "outputs": [],
   "source": [
    "temp_rdd_f = spark.sparkContext.parallelize(temp_list)"
   ]
  },
  {
   "cell_type": "code",
   "execution_count": 17,
   "id": "e413e563",
   "metadata": {},
   "outputs": [],
   "source": [
    "def f2c(f):\n",
    "    c = (f -32)*(5/9)\n",
    "    c = round(c,1)\n",
    "    return c"
   ]
  },
  {
   "cell_type": "markdown",
   "id": "8d4af6f9",
   "metadata": {},
   "source": [
    "### Map the converstion function to the temp_f rdd"
   ]
  },
  {
   "cell_type": "code",
   "execution_count": 18,
   "id": "944c8eea",
   "metadata": {},
   "outputs": [],
   "source": [
    "temp_rdd_c = temp_rdd_f.map(lambda x : f2c(x))"
   ]
  },
  {
   "cell_type": "code",
   "execution_count": 19,
   "id": "e467909a",
   "metadata": {},
   "outputs": [
    {
     "data": {
      "text/plain": [
       "[37.2, 37.8, 18.3, -11.1, -20.0, -34.4, 15.6, 23.9]"
      ]
     },
     "execution_count": 19,
     "metadata": {},
     "output_type": "execute_result"
    }
   ],
   "source": [
    "temp_rdd_c.collect()"
   ]
  },
  {
   "cell_type": "markdown",
   "id": "12938849",
   "metadata": {},
   "source": [
    "# Challenge - 2. XYZ - Research"
   ]
  },
  {
   "cell_type": "markdown",
   "id": "a6ac100a",
   "metadata": {},
   "source": [
    "\n",
    "data2001List = ['RIN1', 'RIN2', 'RIN3', 'RIN4', 'RIN5', 'RIN6', 'RIN7']\n",
    "data2002List = ['RIN3', 'RIN4', 'RIN7', 'RIN8', 'RIN9']\n",
    "data2003List = ['RIN4', 'RIN8', 'RIN10', 'RIN11', 'RIN12']\n",
    "\n",
    "1. How many research projects were initiated in the three years?\n",
    "\n",
    "2. How many projects were completed in the first year?\n",
    "\n",
    "3. How many projects were completed in the first two years?"
   ]
  },
  {
   "cell_type": "code",
   "execution_count": 22,
   "id": "64bdc977",
   "metadata": {},
   "outputs": [],
   "source": [
    "data2001List = ['RIN1', 'RIN2', 'RIN3', 'RIN4', 'RIN5', 'RIN6', 'RIN7']\n",
    "data2002List = ['RIN3', 'RIN4', 'RIN7', 'RIN8', 'RIN9']\n",
    "data2003List = ['RIN4', 'RIN8', 'RIN10', 'RIN11', 'RIN12']"
   ]
  },
  {
   "cell_type": "markdown",
   "id": "ad244b52",
   "metadata": {},
   "source": [
    "### Create RDD's for the same"
   ]
  },
  {
   "cell_type": "code",
   "execution_count": 24,
   "id": "6862a863",
   "metadata": {},
   "outputs": [],
   "source": [
    "data2001rdd = spark.sparkContext.parallelize(data2001List)\n",
    "data2002rdd = spark.sparkContext.parallelize(data2002List)\n",
    "data2003rdd = spark.sparkContext.parallelize(data2003List)"
   ]
  },
  {
   "cell_type": "markdown",
   "id": "d879b80c",
   "metadata": {},
   "source": [
    "**Q1 - How many research projects were initiated in the three years?**"
   ]
  },
  {
   "cell_type": "code",
   "execution_count": 25,
   "id": "069a4721",
   "metadata": {},
   "outputs": [
    {
     "name": "stderr",
     "output_type": "stream",
     "text": [
      "                                                                                \r"
     ]
    },
    {
     "data": {
      "text/plain": [
       "['RIN2',\n",
       " 'RIN5',\n",
       " 'RIN11',\n",
       " 'RIN1',\n",
       " 'RIN9',\n",
       " 'RIN8',\n",
       " 'RIN7',\n",
       " 'RIN4',\n",
       " 'RIN10',\n",
       " 'RIN6',\n",
       " 'RIN12',\n",
       " 'RIN3']"
      ]
     },
     "execution_count": 25,
     "metadata": {},
     "output_type": "execute_result"
    }
   ],
   "source": [
    "all_project_rdd = data2001rdd.union(data2002rdd).union(data2003rdd)\n",
    "all_project_rdd = all_project_rdd.distinct()\n",
    "\n",
    "all_project_rdd.collect()"
   ]
  },
  {
   "cell_type": "code",
   "execution_count": 26,
   "id": "9a552df7",
   "metadata": {},
   "outputs": [
    {
     "data": {
      "text/plain": [
       "12"
      ]
     },
     "execution_count": 26,
     "metadata": {},
     "output_type": "execute_result"
    }
   ],
   "source": [
    "all_project_rdd.count()"
   ]
  },
  {
   "cell_type": "markdown",
   "id": "cfd221c1",
   "metadata": {},
   "source": [
    "**Q2- How many projects were completed in the first year?**"
   ]
  },
  {
   "cell_type": "code",
   "execution_count": 31,
   "id": "64c01f79",
   "metadata": {},
   "outputs": [
    {
     "data": {
      "text/plain": [
       "['RIN2', 'RIN1', 'RIN6', 'RIN5']"
      ]
     },
     "execution_count": 31,
     "metadata": {},
     "output_type": "execute_result"
    }
   ],
   "source": [
    "fistYearCompletedProjectsRdd = data2001rdd.subtract(data2002rdd)\n",
    "\n",
    "fistYearCompletedProjectsRdd.collect()"
   ]
  },
  {
   "cell_type": "code",
   "execution_count": 32,
   "id": "f9b9ff7a",
   "metadata": {},
   "outputs": [
    {
     "data": {
      "text/plain": [
       "['RIN2', 'RIN1', 'RIN6', 'RIN5']"
      ]
     },
     "execution_count": 32,
     "metadata": {},
     "output_type": "execute_result"
    }
   ],
   "source": [
    "fistYearCompletedProjectsRdd.collect()"
   ]
  },
  {
   "cell_type": "markdown",
   "id": "c5fdb6a2",
   "metadata": {},
   "source": [
    "**Q3 - How many projects were completed in the first two years?**"
   ]
  },
  {
   "cell_type": "code",
   "execution_count": 35,
   "id": "5703d834",
   "metadata": {},
   "outputs": [
    {
     "data": {
      "text/plain": [
       "['RIN2', 'RIN5', 'RIN1', 'RIN9', 'RIN7', 'RIN6', 'RIN3']"
      ]
     },
     "execution_count": 35,
     "metadata": {},
     "output_type": "execute_result"
    }
   ],
   "source": [
    "fistTwoYearProjectsRdd = data2001rdd.union(data2002rdd).distinct()\n",
    "\n",
    "fistTwoYearCompletedProjectsRdd = fistTwoYearProjectsRdd.subtract(data2003rdd)\n",
    "\n",
    "fistTwoYearCompletedProjectsRdd.collect()"
   ]
  },
  {
   "cell_type": "code",
   "execution_count": 36,
   "id": "710af6f8",
   "metadata": {},
   "outputs": [
    {
     "data": {
      "text/plain": [
       "7"
      ]
     },
     "execution_count": 36,
     "metadata": {},
     "output_type": "execute_result"
    }
   ],
   "source": [
    "fistTwoYearCompletedProjectsRdd.count()"
   ]
  },
  {
   "cell_type": "markdown",
   "id": "37e27ae3",
   "metadata": {},
   "source": [
    "just try to sort the element of the RDD"
   ]
  },
  {
   "cell_type": "code",
   "execution_count": 41,
   "id": "0ea90707",
   "metadata": {},
   "outputs": [
    {
     "data": {
      "text/plain": [
       "['RIN1', 'RIN2', 'RIN3', 'RIN5', 'RIN6', 'RIN7', 'RIN9']"
      ]
     },
     "execution_count": 41,
     "metadata": {},
     "output_type": "execute_result"
    }
   ],
   "source": [
    "fistTwoYearCompletedProjectsRdd.sortBy(lambda x : x).collect()"
   ]
  },
  {
   "cell_type": "markdown",
   "id": "3b412b3a",
   "metadata": {},
   "source": [
    "The end of the document "
   ]
  }
 ],
 "metadata": {
  "kernelspec": {
   "display_name": "Python 3 (ipykernel)",
   "language": "python",
   "name": "python3"
  },
  "language_info": {
   "codemirror_mode": {
    "name": "ipython",
    "version": 3
   },
   "file_extension": ".py",
   "mimetype": "text/x-python",
   "name": "python",
   "nbconvert_exporter": "python",
   "pygments_lexer": "ipython3",
   "version": "3.9.16"
  }
 },
 "nbformat": 4,
 "nbformat_minor": 5
}
