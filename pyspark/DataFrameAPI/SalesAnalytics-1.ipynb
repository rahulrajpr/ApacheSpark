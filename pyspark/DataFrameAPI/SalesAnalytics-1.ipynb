{
 "cells": [
  {
   "cell_type": "code",
   "execution_count": 1,
   "id": "15d50127",
   "metadata": {},
   "outputs": [],
   "source": [
    "import pandas as pd\n",
    "import numpy as np\n",
    "import warnings\n",
    "warnings.filterwarnings('ignore')"
   ]
  },
  {
   "cell_type": "code",
   "execution_count": 2,
   "id": "dc0519c5",
   "metadata": {},
   "outputs": [],
   "source": [
    "from pyspark.sql import SparkSession\n",
    "from pyspark.sql.functions import count"
   ]
  },
  {
   "cell_type": "code",
   "execution_count": 3,
   "id": "41def4d1",
   "metadata": {},
   "outputs": [
    {
     "name": "stderr",
     "output_type": "stream",
     "text": [
      "23/07/01 18:54:26 WARN Utils: Your hostname, systemd resolves to a loopback address: 127.0.1.1; using 192.168.0.141 instead (on interface wlp3s0)\n",
      "23/07/01 18:54:26 WARN Utils: Set SPARK_LOCAL_IP if you need to bind to another address\n",
      "WARNING: An illegal reflective access operation has occurred\n",
      "WARNING: Illegal reflective access by org.apache.spark.unsafe.Platform (file:/home/systemd/anaconda3/lib/python3.9/site-packages/pyspark/jars/spark-unsafe_2.12-3.2.1.jar) to constructor java.nio.DirectByteBuffer(long,int)\n",
      "WARNING: Please consider reporting this to the maintainers of org.apache.spark.unsafe.Platform\n",
      "WARNING: Use --illegal-access=warn to enable warnings of further illegal reflective access operations\n",
      "WARNING: All illegal access operations will be denied in a future release\n",
      "Using Spark's default log4j profile: org/apache/spark/log4j-defaults.properties\n",
      "Setting default log level to \"WARN\".\n",
      "To adjust logging level use sc.setLogLevel(newLevel). For SparkR, use setLogLevel(newLevel).\n",
      "23/07/01 18:54:26 WARN NativeCodeLoader: Unable to load native-hadoop library for your platform... using builtin-java classes where applicable\n"
     ]
    }
   ],
   "source": [
    "spark = SparkSession.builder.appName('SalesOrdersbyRegionCountry').getOrCreate()"
   ]
  },
  {
   "cell_type": "code",
   "execution_count": 4,
   "id": "cf906df1",
   "metadata": {},
   "outputs": [
    {
     "data": {
      "text/plain": [
       "pyspark.sql.session.SparkSession"
      ]
     },
     "execution_count": 4,
     "metadata": {},
     "output_type": "execute_result"
    }
   ],
   "source": [
    "type(spark)"
   ]
  },
  {
   "cell_type": "code",
   "execution_count": 5,
   "id": "a2677a93",
   "metadata": {},
   "outputs": [],
   "source": [
    "data_file = 'data/sales_records.csv'"
   ]
  },
  {
   "cell_type": "code",
   "execution_count": 6,
   "id": "146c2190",
   "metadata": {
    "scrolled": true
   },
   "outputs": [],
   "source": [
    "sales_dataframe = spark.read.format('csv')  # Specify the file format to read\n",
    "\n",
    "sales_dataframe = sales_dataframe.option('header', 'true')  # Consider the first row as headers\n",
    "\n",
    "sales_dataframe = sales_dataframe.option('inferSchema', 'true')  # Infer the schema of the dataframe\n",
    "\n",
    "sales_dataframe = sales_dataframe.load(data_file)  # Load the data from the specified file"
   ]
  },
  {
   "cell_type": "code",
   "execution_count": 7,
   "id": "88ffdd81",
   "metadata": {},
   "outputs": [
    {
     "data": {
      "text/plain": [
       "pyspark.sql.dataframe.DataFrame"
      ]
     },
     "execution_count": 7,
     "metadata": {},
     "output_type": "execute_result"
    }
   ],
   "source": [
    "type(sales_dataframe)"
   ]
  },
  {
   "cell_type": "code",
   "execution_count": 8,
   "id": "c048b574",
   "metadata": {},
   "outputs": [
    {
     "data": {
      "text/plain": [
       "DataFrame[Region: string, Country: string, Item Type: string, Sales Channel: string, Order Priority: string, Order Date: string, Order ID: int, Ship Date: string, Units Sold: int, Unit Price: double, Unit Cost: double, Total Revenue: double, Total Cost: double, Total Profit: double]"
      ]
     },
     "execution_count": 8,
     "metadata": {},
     "output_type": "execute_result"
    }
   ],
   "source": [
    "sales_dataframe"
   ]
  },
  {
   "cell_type": "code",
   "execution_count": 9,
   "id": "7c952046",
   "metadata": {},
   "outputs": [
    {
     "name": "stdout",
     "output_type": "stream",
     "text": [
      "+--------------------+--------------------+-------------+-------------+--------------+----------+---------+----------+----------+----------+---------+-------------+----------+------------+\n",
      "|              Region|             Country|    Item Type|Sales Channel|Order Priority|Order Date| Order ID| Ship Date|Units Sold|Unit Price|Unit Cost|Total Revenue|Total Cost|Total Profit|\n",
      "+--------------------+--------------------+-------------+-------------+--------------+----------+---------+----------+----------+----------+---------+-------------+----------+------------+\n",
      "|Middle East and N...|          Azerbaijan|       Snacks|       Online|             C| 10/8/2014|535113847|10/23/2014|       934|    152.58|    97.44|    142509.72|  91008.96|    51500.76|\n",
      "|Central America a...|              Panama|    Cosmetics|      Offline|             L| 2/22/2015|874708545| 2/27/2015|      4551|     437.2|   263.33|    1989697.2|1198414.83|   791282.37|\n",
      "|  Sub-Saharan Africa|Sao Tome and Prin...|       Fruits|      Offline|             M| 12/9/2015|854349935| 1/18/2016|      9986|      9.33|     6.92|     93169.38|  69103.12|    24066.26|\n",
      "|  Sub-Saharan Africa|Sao Tome and Prin...|Personal Care|       Online|             M| 9/17/2014|892836844|10/12/2014|      9118|     81.73|    56.67|    745214.14| 516717.06|   228497.08|\n",
      "|Central America a...|              Belize|    Household|      Offline|             H|  2/4/2010|129280602|  3/5/2010|      5858|    668.27|   502.54|   3914725.66|2943879.32|   970846.34|\n",
      "+--------------------+--------------------+-------------+-------------+--------------+----------+---------+----------+----------+----------+---------+-------------+----------+------------+\n",
      "only showing top 5 rows\n",
      "\n"
     ]
    }
   ],
   "source": [
    "sales_dataframe.show(n = 5)"
   ]
  },
  {
   "cell_type": "code",
   "execution_count": 10,
   "id": "ddb8421b",
   "metadata": {},
   "outputs": [
    {
     "name": "stdout",
     "output_type": "stream",
     "text": [
      "+--------------------+--------------------+---------+\n",
      "|              Region|             Country| Order ID|\n",
      "+--------------------+--------------------+---------+\n",
      "|Middle East and N...|          Azerbaijan|535113847|\n",
      "|Central America a...|              Panama|874708545|\n",
      "|  Sub-Saharan Africa|Sao Tome and Prin...|854349935|\n",
      "|  Sub-Saharan Africa|Sao Tome and Prin...|892836844|\n",
      "|Central America a...|              Belize|129280602|\n",
      "+--------------------+--------------------+---------+\n",
      "only showing top 5 rows\n",
      "\n"
     ]
    }
   ],
   "source": [
    "sales_dataframe.select('Region','Country','Order ID').show(n = 5)"
   ]
  },
  {
   "cell_type": "code",
   "execution_count": 11,
   "id": "5547243f",
   "metadata": {},
   "outputs": [
    {
     "name": "stdout",
     "output_type": "stream",
     "text": [
      "+---------------------------------+---------------------+---------+\n",
      "|Region                           |Country              |Order ID |\n",
      "+---------------------------------+---------------------+---------+\n",
      "|Middle East and North Africa     |Azerbaijan           |535113847|\n",
      "|Central America and the Caribbean|Panama               |874708545|\n",
      "|Sub-Saharan Africa               |Sao Tome and Principe|854349935|\n",
      "|Sub-Saharan Africa               |Sao Tome and Principe|892836844|\n",
      "|Central America and the Caribbean|Belize               |129280602|\n",
      "+---------------------------------+---------------------+---------+\n",
      "only showing top 5 rows\n",
      "\n"
     ]
    }
   ],
   "source": [
    "sales_dataframe.select('Region','Country','Order ID').show(n = 5, truncate = False)"
   ]
  },
  {
   "cell_type": "markdown",
   "id": "a15f3e22",
   "metadata": {},
   "source": [
    "## Group the data frame and perform aggregation on it "
   ]
  },
  {
   "cell_type": "code",
   "execution_count": 32,
   "id": "b1ddb9d9",
   "metadata": {},
   "outputs": [
    {
     "name": "stdout",
     "output_type": "stream",
     "text": [
      "+--------------------+--------------------+--------------------+\n",
      "|              Region|             Country|CountByRegionCountry|\n",
      "+--------------------+--------------------+--------------------+\n",
      "|                Asia|               Japan|                 560|\n",
      "|Middle East and N...|             Morocco|                 558|\n",
      "|  Sub-Saharan Africa|            Ethiopia|                 554|\n",
      "|              Europe|              Russia|                 521|\n",
      "|Middle East and N...|                Iran|                 531|\n",
      "|Central America a...|                Cuba|                 540|\n",
      "|  Sub-Saharan Africa|         Seychelles |                 561|\n",
      "|  Sub-Saharan Africa|            Tanzania|                 549|\n",
      "|  Sub-Saharan Africa|               Gabon|                 534|\n",
      "|  Sub-Saharan Africa|              Zambia|                 541|\n",
      "|                Asia|           Singapore|                 548|\n",
      "|  Sub-Saharan Africa|Central African R...|                 535|\n",
      "|  Sub-Saharan Africa|         South Sudan|                 543|\n",
      "|              Europe|             Belgium|                 540|\n",
      "|              Europe|              Kosovo|                 546|\n",
      "|              Europe|          San Marino|                 540|\n",
      "|              Europe|      United Kingdom|                 517|\n",
      "|              Europe|             Ukraine|                 531|\n",
      "|  Sub-Saharan Africa|          Mauritius |                 551|\n",
      "|Australia and Oce...|          East Timor|                 557|\n",
      "+--------------------+--------------------+--------------------+\n",
      "only showing top 20 rows\n",
      "\n"
     ]
    }
   ],
   "source": [
    "group_by_region_country = sales_dataframe.groupBy('Region','Country')\n",
    "\n",
    "count_by_region_country = group_by_region_country.agg(count('Order Id').alias('CountByRegionCountry'))\n",
    "\n",
    "count_by_region_country.show()"
   ]
  },
  {
   "cell_type": "markdown",
   "id": "8c2fff2f",
   "metadata": {},
   "source": [
    "### Sort the Grouped Dataframe based on the count ascending "
   ]
  },
  {
   "cell_type": "code",
   "execution_count": 34,
   "id": "17cc070e",
   "metadata": {},
   "outputs": [
    {
     "name": "stdout",
     "output_type": "stream",
     "text": [
      "+--------------------+--------------------+--------------------+\n",
      "|              Region|             Country|CountByRegionCountry|\n",
      "+--------------------+--------------------+--------------------+\n",
      "|  Sub-Saharan Africa|               Sudan|                 623|\n",
      "|Australia and Oce...|         New Zealand|                 593|\n",
      "|              Europe|        Vatican City|                 590|\n",
      "|              Europe|               Malta|                 589|\n",
      "|  Sub-Saharan Africa|          Mozambique|                 589|\n",
      "|Middle East and N...|            Tunisia |                 584|\n",
      "|                Asia|            Cambodia|                 584|\n",
      "|Central America a...|              Panama|                 578|\n",
      "|  Sub-Saharan Africa|              Rwanda|                 576|\n",
      "|  Sub-Saharan Africa|        South Africa|                 575|\n",
      "|  Sub-Saharan Africa|       Cote d'Ivoire|                 575|\n",
      "|Australia and Oce...|Federated States ...|                 574|\n",
      "|Central America a...|               Haiti|                 573|\n",
      "|Central America a...|Saint Vincent and...|                 573|\n",
      "|  Sub-Saharan Africa|Sao Tome and Prin...|                 573|\n",
      "|  Sub-Saharan Africa|             Liberia|                 572|\n",
      "|Middle East and N...|               Yemen|                 571|\n",
      "|              Europe|             Hungary|                 570|\n",
      "|  Sub-Saharan Africa|             Namibia|                 570|\n",
      "|       North America|           Greenland|                 569|\n",
      "+--------------------+--------------------+--------------------+\n",
      "only showing top 20 rows\n",
      "\n"
     ]
    }
   ],
   "source": [
    "count_by_region_country_ordered = count_by_region_country.orderBy('CountByRegionCountry', ascending = False)\n",
    "\n",
    "count_by_region_country_ordered.show()"
   ]
  },
  {
   "cell_type": "code",
   "execution_count": null,
   "id": "1d161814",
   "metadata": {},
   "outputs": [],
   "source": []
  },
  {
   "cell_type": "code",
   "execution_count": null,
   "id": "ed06b13c",
   "metadata": {},
   "outputs": [],
   "source": []
  },
  {
   "cell_type": "code",
   "execution_count": null,
   "id": "2dcffa90",
   "metadata": {},
   "outputs": [],
   "source": []
  },
  {
   "cell_type": "code",
   "execution_count": null,
   "id": "13b8882b",
   "metadata": {},
   "outputs": [],
   "source": []
  }
 ],
 "metadata": {
  "kernelspec": {
   "display_name": "Python 3 (ipykernel)",
   "language": "python",
   "name": "python3"
  },
  "language_info": {
   "codemirror_mode": {
    "name": "ipython",
    "version": 3
   },
   "file_extension": ".py",
   "mimetype": "text/x-python",
   "name": "python",
   "nbconvert_exporter": "python",
   "pygments_lexer": "ipython3",
   "version": "3.9.16"
  }
 },
 "nbformat": 4,
 "nbformat_minor": 5
}
